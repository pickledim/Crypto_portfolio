{
 "cells": [
  {
   "cell_type": "markdown",
   "metadata": {},
   "source": [
    "# Crypto Portfolio \n",
    "\n",
    "## Introduction\n",
    "\n",
    "The idea behind this project is to find an efficient way to trace the crypto market and buy the best performing tokens. The algorithm scrapes data from coinmarketcap and performs a convex optimization in order to find the best performing tokens.\n",
    "\n",
    "### Import the crypto class"
   ]
  },
  {
   "cell_type": "code",
   "execution_count": 1,
   "metadata": {},
   "outputs": [],
   "source": [
    "import Crypto_class as cc"
   ]
  },
  {
   "cell_type": "markdown",
   "metadata": {},
   "source": [
    "### Inputs\n",
    "\n",
    "- top_100: Boolean, If you want the top 100 tokens by market cap\n",
    "- n_days: For validation purposes --> checks the profit of the suggested results from n_days before\n",
    "- mu_method: mean-->'mean' annualised mean (daily) historical return from input (daily) token prices\n",
    "   - choices: [mean, exp, capm]\n",
    "- cov_method: sample --> annualised sample covariance matrix of (daily) token returns\n",
    "   - choices: [sample, exp]\n",
    "- obj_function: the objective function of the base convex Optimization\n",
    "   - choices: [sharpe, quadratic, min_volat]\n",
    "- drop: boolean decide if you want to drop the nan values of the mean values\n",
    "- budget: You investment budget\n",
    "- hodl: If you want to hold yout tokens or trade them after 1 year\n",
    "\n"
   ]
  },
  {
   "cell_type": "code",
   "execution_count": 2,
   "metadata": {},
   "outputs": [],
   "source": [
    "# Inputs\n",
    "top_100 = True\n",
    "n_days = 90\n",
    "mu_method = 'mean'\n",
    "cov_method = 'exp'\n",
    "obj_function = 'sharpe'\n",
    "drop = False\n",
    "budget = 100\n",
    "hodl = True"
   ]
  },
  {
   "cell_type": "markdown",
   "metadata": {},
   "source": [
    "### Create the object with the wanted number of coins to search\n",
    "- Scrape the data of the tokens"
   ]
  },
  {
   "cell_type": "code",
   "execution_count": 3,
   "metadata": {},
   "outputs": [
    {
     "name": "stdout",
     "output_type": "stream",
     "text": [
      "0\n",
      "\n",
      " ===== BTC ===== \n",
      "\n",
      "1\n",
      "\n",
      " ===== ETH ===== \n",
      "\n",
      "2\n",
      "\n",
      " ===== BNB ===== \n",
      "\n",
      "3\n",
      "\n",
      " ===== USDT ===== \n",
      "\n",
      "4\n",
      "\n",
      " ===== SOL ===== \n",
      "\n",
      "5\n",
      "\n",
      " ===== ADA ===== \n",
      "\n",
      "6\n",
      "\n",
      " ===== XRP ===== \n",
      "\n",
      "7\n",
      "\n",
      " ===== USDC ===== \n",
      "\n",
      "8\n",
      "\n",
      " ===== LUNA ===== \n",
      "\n",
      "9\n",
      "\n",
      " ===== DOT ===== \n",
      "\n",
      "10\n",
      "\n",
      " ===== AVAX ===== \n",
      "\n",
      "11\n",
      "\n",
      " ===== DOGE ===== \n",
      "\n",
      "12\n",
      "\n",
      " ===== SHIB ===== \n",
      "\n",
      "13\n",
      "\n",
      " ===== MATIC ===== \n",
      "\n",
      "14\n",
      "\n",
      " ===== CRO ===== \n",
      "\n",
      "15\n",
      "\n",
      " ===== BUSD ===== \n",
      "\n",
      "16\n",
      "\n",
      " ===== WBTC ===== \n",
      "\n",
      "17\n",
      "\n",
      " ===== UNI ===== \n",
      "\n",
      "18\n",
      "\n",
      " ===== LTC ===== \n",
      "\n",
      "19\n",
      "\n",
      " ===== LINK ===== \n",
      "\n",
      "20\n",
      "\n",
      " ===== UST ===== \n",
      "\n",
      "21\n",
      "\n",
      " ===== ALGO ===== \n",
      "\n",
      "22\n",
      "\n",
      " ===== DAI ===== \n",
      "\n",
      "23\n",
      "\n",
      " ===== BCH ===== \n",
      "\n",
      "24\n",
      "\n",
      " ===== NEAR ===== \n",
      "\n",
      "25\n",
      "sleeping for 1 min...\n",
      "\n",
      " ===== TRX ===== \n",
      "\n",
      "26\n",
      "\n",
      " ===== XLM ===== \n",
      "\n",
      "27\n",
      "\n",
      " ===== MANA ===== \n",
      "\n",
      "28\n",
      "\n",
      " ===== ATOM ===== \n",
      "\n",
      "29\n",
      "\n",
      " ===== AXS ===== \n",
      "\n",
      "Expected annual return: 102774.1%\n",
      "Annual volatility: 231.8%\n",
      "Sharpe Ratio: 443.46\n",
      "Invest 100.00248084457667\n",
      "\n",
      " Profit Loss: 51.91246820822907e\n",
      "\n",
      "   Coin     Amount       n_coins\n",
      "3   AXS  89.492580  1.297949e+00\n",
      "2  WBTC  10.325396  2.515912e-04\n",
      "1   SOL   0.182127  1.384606e-03\n",
      "0   BTC   0.002378  5.795242e-08\n"
     ]
    }
   ],
   "source": [
    "n_coins = 30\n",
    "crypto_class_20c = cc.Cryptos(top_100, budget, n_coins, hodl)\n",
    "crypto_class_20c.get_prices_df()\n",
    "crypto_class_20c.get_market_cap_df()"
   ]
  },
  {
   "cell_type": "markdown",
   "metadata": {},
   "source": [
    "- Validate the results from before n_days"
   ]
  },
  {
   "cell_type": "code",
   "execution_count": null,
   "metadata": {},
   "outputs": [],
   "source": [
    "crypto_class_20c.validate_from_past(n_coins, n_days, mu_method, cov_method, obj_function, drop)\n",
    "print(crypto_class_20c.portfolio_from_past)"
   ]
  },
  {
   "cell_type": "markdown",
   "metadata": {},
   "source": [
    "- Find the best performing tokens"
   ]
  },
  {
   "cell_type": "code",
   "execution_count": 5,
   "metadata": {},
   "outputs": [
    {
     "name": "stdout",
     "output_type": "stream",
     "text": [
      "Expected annual return: 33186.2%\n",
      "Annual volatility: 172.1%\n",
      "Sharpe Ratio: 192.84\n",
      "Invest 100.00014862623136\n",
      "\n",
      "n_coins = 30\n",
      "\n",
      "   Coin     Amount   n_coins\n",
      "2   AXS  91.984101  0.855128\n",
      "0   BTC   4.873082  0.000096\n",
      "1  WBTC   3.142966  0.000062\n"
     ]
    }
   ],
   "source": [
    "crypto_class_20c.optimize_portfolio(n_coins, mu_method, cov_method, obj_function, drop)\n",
    "print(f'\\nn_coins = {n_coins}\\n')\n",
    "print(crypto_class_20c.portfolio)"
   ]
  },
  {
   "cell_type": "markdown",
   "metadata": {},
   "source": [
    "## Blue chip portfolio"
   ]
  },
  {
   "cell_type": "code",
   "execution_count": 6,
   "metadata": {},
   "outputs": [
    {
     "name": "stdout",
     "output_type": "stream",
     "text": [
      "Expected annual return: 2254.1%\n",
      "Annual volatility: 128.2%\n",
      "Sharpe Ratio: 17.56\n",
      "Invest 100.00000000000001\n",
      "\n",
      "n_coins = 10\n",
      "\n",
      "  Coin        Amount       n_coins\n",
      "1  SOL  1.000000e+02  5.050486e-01\n",
      "0  BNB  1.000000e-14  1.828170e-17\n"
     ]
    }
   ],
   "source": [
    "n_coins = 10\n",
    "crypto_class_10c = cc.Cryptos(top_100, budget, n_coins, hodl)\n",
    "crypto_class_10c.optimize_portfolio(n_coins, mu_method, cov_method, obj_function, drop)\n",
    "print(f'\\nn_coins = {n_coins}\\n')\n",
    "print(crypto_class_10c.portfolio)"
   ]
  },
  {
   "cell_type": "code",
   "execution_count": null,
   "metadata": {},
   "outputs": [],
   "source": []
  }
 ],
 "metadata": {
  "kernelspec": {
   "display_name": "Python 3",
   "language": "python",
   "name": "python3"
  },
  "language_info": {
   "codemirror_mode": {
    "name": "ipython",
    "version": 3
   },
   "file_extension": ".py",
   "mimetype": "text/x-python",
   "name": "python",
   "nbconvert_exporter": "python",
   "pygments_lexer": "ipython3",
   "version": "3.8.5"
  }
 },
 "nbformat": 4,
 "nbformat_minor": 4
}
